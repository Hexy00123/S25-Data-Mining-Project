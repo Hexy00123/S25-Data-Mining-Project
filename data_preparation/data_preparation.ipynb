{
 "cells": [
  {
   "cell_type": "code",
   "execution_count": 1,
   "id": "c8675650",
   "metadata": {},
   "outputs": [],
   "source": [
    "import datasets\n",
    "import numpy as np"
   ]
  },
  {
   "cell_type": "code",
   "execution_count": 3,
   "id": "72d38c1b",
   "metadata": {},
   "outputs": [
    {
     "data": {
      "application/vnd.jupyter.widget-view+json": {
       "model_id": "7f90d9c897a44d77aa92ffebfabf6234",
       "version_major": 2,
       "version_minor": 0
      },
      "text/plain": [
       "Generating train split: 0 examples [00:00, ? examples/s]"
      ]
     },
     "metadata": {},
     "output_type": "display_data"
    },
    {
     "data": {
      "text/plain": [
       "DatasetDict({\n",
       "    train: Dataset({\n",
       "        features: ['title', 'abstract', 'categories'],\n",
       "        num_rows: 340675\n",
       "    })\n",
       "    test: Dataset({\n",
       "        features: ['title', 'abstract', 'categories'],\n",
       "        num_rows: 272541\n",
       "    })\n",
       "})"
      ]
     },
     "execution_count": 3,
     "metadata": {},
     "output_type": "execute_result"
    }
   ],
   "source": [
    "data_path = '../data/arxiv-metadata-oai-snapshot.json'\n",
    "\n",
    "data = datasets.load_dataset(\n",
    "  \"json\",\n",
    "  data_files=data_path,\n",
    ")\n",
    "\n",
    "data = data.select_columns(['title', 'abstract', 'categories'])\n",
    "data = data['train'].train_test_split(train_size=0.125, test_size=0.1, seed=42)\n",
    "data"
   ]
  },
  {
   "cell_type": "code",
   "execution_count": 4,
   "id": "f7301db4",
   "metadata": {},
   "outputs": [
    {
     "data": {
      "application/vnd.jupyter.widget-view+json": {
       "model_id": "1bff2350829140b8ab1b61e199742ac0",
       "version_major": 2,
       "version_minor": 0
      },
      "text/plain": [
       "Map (num_proc=4):   0%|          | 0/340675 [00:00<?, ? examples/s]"
      ]
     },
     "metadata": {},
     "output_type": "display_data"
    },
    {
     "data": {
      "application/vnd.jupyter.widget-view+json": {
       "model_id": "35cd3f1146c34c709a5441a574058307",
       "version_major": 2,
       "version_minor": 0
      },
      "text/plain": [
       "Map (num_proc=4):   0%|          | 0/272541 [00:00<?, ? examples/s]"
      ]
     },
     "metadata": {},
     "output_type": "display_data"
    }
   ],
   "source": [
    "def preprocess_categories(batch): \n",
    "  batch['categories'] = [(cat if '.' not in cat else cat.split('.')[0]) for cat in batch['categories']]\n",
    "  return {'categories': batch['categories']} \n",
    "\n",
    "data = data.map(preprocess_categories, batched=True, keep_in_memory=True, num_proc=4)"
   ]
  },
  {
   "cell_type": "code",
   "execution_count": 5,
   "id": "750fd4d5",
   "metadata": {},
   "outputs": [
    {
     "name": "stdout",
     "output_type": "stream",
     "text": [
      "Unique categories: 38\n"
     ]
    }
   ],
   "source": [
    "all_categories = [cat for sublist in data['train']['categories'] for cat in sublist.split()]\n",
    "unique_categories = sorted(set(all_categories))\n",
    "\n",
    "class2id = {cat: i for i, cat in enumerate(unique_categories)}\n",
    "id2class = {i: cat for i, cat in enumerate(unique_categories)}\n",
    "\n",
    "print(f\"Unique categories: {len(unique_categories)}\")"
   ]
  },
  {
   "cell_type": "code",
   "execution_count": 6,
   "id": "80b8432c",
   "metadata": {},
   "outputs": [
    {
     "data": {
      "application/vnd.jupyter.widget-view+json": {
       "model_id": "d83d14e5563e4e98be2c38e146c1b619",
       "version_major": 2,
       "version_minor": 0
      },
      "text/plain": [
       "Map (num_proc=4):   0%|          | 0/340675 [00:00<?, ? examples/s]"
      ]
     },
     "metadata": {},
     "output_type": "display_data"
    },
    {
     "data": {
      "application/vnd.jupyter.widget-view+json": {
       "model_id": "f2ca554a21e44002bff7af70318cba7b",
       "version_major": 2,
       "version_minor": 0
      },
      "text/plain": [
       "Map (num_proc=4):   0%|          | 0/272541 [00:00<?, ? examples/s]"
      ]
     },
     "metadata": {},
     "output_type": "display_data"
    }
   ],
   "source": [
    "def preprocess_categories(batch):\n",
    "  \"\"\"\n",
    "  Processes a batch of data to convert category strings into multi-hot encoded labels.\n",
    "  Assumes 'class2id' dictionary is available in the scope.\n",
    "  \"\"\"\n",
    "  batch_labels = []\n",
    "  num_labels = len(class2id) \n",
    "\n",
    "  for categories_str in batch['categories']:\n",
    "    labels = [0.0] * num_labels\n",
    "    all_labels = categories_str.split()\n",
    "    for label in all_labels:\n",
    "      if label in class2id:\n",
    "        label_id = class2id[label]\n",
    "        labels[label_id] = 1.0\n",
    "    batch_labels.append(labels)\n",
    "  \n",
    "  return {'labels': batch_labels, 'text': [title+'\\n\\n'+abstract for title, abstract in zip(batch['title'], batch['abstract'])]}\n",
    "\n",
    "\n",
    "data = data.map(preprocess_categories, batched=True, num_proc=4, keep_in_memory=True) "
   ]
  },
  {
   "cell_type": "code",
   "execution_count": 12,
   "id": "d8d37915",
   "metadata": {},
   "outputs": [
    {
     "data": {
      "text/plain": [
       "DatasetDict({\n",
       "    train: Dataset({\n",
       "        features: ['title', 'abstract', 'categories', 'labels', 'text'],\n",
       "        num_rows: 340675\n",
       "    })\n",
       "    test: Dataset({\n",
       "        features: ['title', 'abstract', 'categories', 'labels', 'text'],\n",
       "        num_rows: 272541\n",
       "    })\n",
       "})"
      ]
     },
     "execution_count": 12,
     "metadata": {},
     "output_type": "execute_result"
    }
   ],
   "source": [
    "data"
   ]
  },
  {
   "cell_type": "code",
   "execution_count": 16,
   "id": "1deefe9a",
   "metadata": {},
   "outputs": [
    {
     "data": {
      "application/vnd.jupyter.widget-view+json": {
       "model_id": "ccf3581e272a4af9aebe192f726c18cf",
       "version_major": 2,
       "version_minor": 0
      },
      "text/plain": [
       "Saving the dataset (0/1 shards):   0%|          | 0/340675 [00:00<?, ? examples/s]"
      ]
     },
     "metadata": {},
     "output_type": "display_data"
    },
    {
     "data": {
      "application/vnd.jupyter.widget-view+json": {
       "model_id": "3e6b9bd8ae804f9788c871d5d159fa00",
       "version_major": 2,
       "version_minor": 0
      },
      "text/plain": [
       "Saving the dataset (0/1 shards):   0%|          | 0/272541 [00:00<?, ? examples/s]"
      ]
     },
     "metadata": {},
     "output_type": "display_data"
    }
   ],
   "source": [
    "data.select_columns(['text', 'labels']).save_to_disk('../data/preprocessed')"
   ]
  }
 ],
 "metadata": {
  "kernelspec": {
   "display_name": "main",
   "language": "python",
   "name": "python3"
  },
  "language_info": {
   "codemirror_mode": {
    "name": "ipython",
    "version": 3
   },
   "file_extension": ".py",
   "mimetype": "text/x-python",
   "name": "python",
   "nbconvert_exporter": "python",
   "pygments_lexer": "ipython3",
   "version": "3.13.2"
  }
 },
 "nbformat": 4,
 "nbformat_minor": 5
}
