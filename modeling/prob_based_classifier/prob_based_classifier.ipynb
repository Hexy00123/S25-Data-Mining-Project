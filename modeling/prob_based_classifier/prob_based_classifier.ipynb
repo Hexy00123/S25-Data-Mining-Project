{
 "cells": [
  {
   "cell_type": "code",
   "execution_count": 1,
   "id": "a9cbb2c7",
   "metadata": {},
   "outputs": [],
   "source": [
    "import numpy as np\n",
    "import pandas as pd\n",
    "from sklearn.metrics.pairwise import cosine_similarity\n",
    "from sklearn.metrics import classification_report\n",
    "from sentence_transformers import SentenceTransformer\n",
    "import datasets"
   ]
  },
  {
   "cell_type": "code",
   "execution_count": 2,
   "id": "45cc2b0d",
   "metadata": {},
   "outputs": [
    {
     "data": {
      "text/plain": [
       "DatasetDict({\n",
       "    train: Dataset({\n",
       "        features: ['text', 'labels'],\n",
       "        num_rows: 340675\n",
       "    })\n",
       "    test: Dataset({\n",
       "        features: ['text', 'labels'],\n",
       "        num_rows: 272541\n",
       "    })\n",
       "})"
      ]
     },
     "execution_count": 2,
     "metadata": {},
     "output_type": "execute_result"
    }
   ],
   "source": [
    "dataset = datasets.load_from_disk('../../data/preprocessed')\n",
    "dataset"
   ]
  },
  {
   "cell_type": "code",
   "execution_count": 3,
   "id": "b6fcef5c",
   "metadata": {},
   "outputs": [
    {
     "data": {
      "text/html": [
       "<div>\n",
       "<style scoped>\n",
       "    .dataframe tbody tr th:only-of-type {\n",
       "        vertical-align: middle;\n",
       "    }\n",
       "\n",
       "    .dataframe tbody tr th {\n",
       "        vertical-align: top;\n",
       "    }\n",
       "\n",
       "    .dataframe thead th {\n",
       "        text-align: right;\n",
       "    }\n",
       "</style>\n",
       "<table border=\"1\" class=\"dataframe\">\n",
       "  <thead>\n",
       "    <tr style=\"text-align: right;\">\n",
       "      <th></th>\n",
       "      <th>text</th>\n",
       "      <th>labels</th>\n",
       "    </tr>\n",
       "  </thead>\n",
       "  <tbody>\n",
       "    <tr>\n",
       "      <th>0</th>\n",
       "      <td>Stability of holonomicity over quasi-projectiv...</td>\n",
       "      <td>[0.0, 0.0, 0.0, 0.0, 0.0, 0.0, 0.0, 0.0, 0.0, ...</td>\n",
       "    </tr>\n",
       "    <tr>\n",
       "      <th>1</th>\n",
       "      <td>Construction of Lumps with nontrivial interact...</td>\n",
       "      <td>[0.0, 0.0, 0.0, 0.0, 0.0, 0.0, 0.0, 0.0, 0.0, ...</td>\n",
       "    </tr>\n",
       "    <tr>\n",
       "      <th>2</th>\n",
       "      <td>Complex Recurrent Spectral Network\\n\\n  This p...</td>\n",
       "      <td>[0.0, 0.0, 0.0, 0.0, 0.0, 0.0, 0.0, 0.0, 0.0, ...</td>\n",
       "    </tr>\n",
       "    <tr>\n",
       "      <th>3</th>\n",
       "      <td>Soft X-ray to Far Infrared luminosities ratio ...</td>\n",
       "      <td>[0.0, 0.0, 0.0, 0.0, 1.0, 0.0, 0.0, 0.0, 0.0, ...</td>\n",
       "    </tr>\n",
       "    <tr>\n",
       "      <th>4</th>\n",
       "      <td>An improved Material Mask Overlay Strategy for...</td>\n",
       "      <td>[0.0, 0.0, 0.0, 0.0, 0.0, 0.0, 0.0, 0.0, 0.0, ...</td>\n",
       "    </tr>\n",
       "    <tr>\n",
       "      <th>...</th>\n",
       "      <td>...</td>\n",
       "      <td>...</td>\n",
       "    </tr>\n",
       "    <tr>\n",
       "      <th>340670</th>\n",
       "      <td>Magnetic translation groups in an n-dimensiona...</td>\n",
       "      <td>[0.0, 0.0, 0.0, 0.0, 0.0, 0.0, 0.0, 0.0, 0.0, ...</td>\n",
       "    </tr>\n",
       "    <tr>\n",
       "      <th>340671</th>\n",
       "      <td>Cosmic Web Dissection in Fuzzy Dark Matter Cos...</td>\n",
       "      <td>[0.0, 0.0, 0.0, 0.0, 1.0, 0.0, 0.0, 0.0, 0.0, ...</td>\n",
       "    </tr>\n",
       "    <tr>\n",
       "      <th>340672</th>\n",
       "      <td>Reduced class groups grafting relative invaria...</td>\n",
       "      <td>[0.0, 0.0, 0.0, 0.0, 0.0, 0.0, 0.0, 0.0, 0.0, ...</td>\n",
       "    </tr>\n",
       "    <tr>\n",
       "      <th>340673</th>\n",
       "      <td>An Algorithmic Approach to the Asynchronous Co...</td>\n",
       "      <td>[0.0, 0.0, 0.0, 0.0, 0.0, 0.0, 0.0, 0.0, 0.0, ...</td>\n",
       "    </tr>\n",
       "    <tr>\n",
       "      <th>340674</th>\n",
       "      <td>VisualBackProp: efficient visualization of CNN...</td>\n",
       "      <td>[0.0, 0.0, 0.0, 0.0, 0.0, 0.0, 0.0, 0.0, 0.0, ...</td>\n",
       "    </tr>\n",
       "  </tbody>\n",
       "</table>\n",
       "<p>340675 rows × 2 columns</p>\n",
       "</div>"
      ],
      "text/plain": [
       "                                                     text  \\\n",
       "0       Stability of holonomicity over quasi-projectiv...   \n",
       "1       Construction of Lumps with nontrivial interact...   \n",
       "2       Complex Recurrent Spectral Network\\n\\n  This p...   \n",
       "3       Soft X-ray to Far Infrared luminosities ratio ...   \n",
       "4       An improved Material Mask Overlay Strategy for...   \n",
       "...                                                   ...   \n",
       "340670  Magnetic translation groups in an n-dimensiona...   \n",
       "340671  Cosmic Web Dissection in Fuzzy Dark Matter Cos...   \n",
       "340672  Reduced class groups grafting relative invaria...   \n",
       "340673  An Algorithmic Approach to the Asynchronous Co...   \n",
       "340674  VisualBackProp: efficient visualization of CNN...   \n",
       "\n",
       "                                                   labels  \n",
       "0       [0.0, 0.0, 0.0, 0.0, 0.0, 0.0, 0.0, 0.0, 0.0, ...  \n",
       "1       [0.0, 0.0, 0.0, 0.0, 0.0, 0.0, 0.0, 0.0, 0.0, ...  \n",
       "2       [0.0, 0.0, 0.0, 0.0, 0.0, 0.0, 0.0, 0.0, 0.0, ...  \n",
       "3       [0.0, 0.0, 0.0, 0.0, 1.0, 0.0, 0.0, 0.0, 0.0, ...  \n",
       "4       [0.0, 0.0, 0.0, 0.0, 0.0, 0.0, 0.0, 0.0, 0.0, ...  \n",
       "...                                                   ...  \n",
       "340670  [0.0, 0.0, 0.0, 0.0, 0.0, 0.0, 0.0, 0.0, 0.0, ...  \n",
       "340671  [0.0, 0.0, 0.0, 0.0, 1.0, 0.0, 0.0, 0.0, 0.0, ...  \n",
       "340672  [0.0, 0.0, 0.0, 0.0, 0.0, 0.0, 0.0, 0.0, 0.0, ...  \n",
       "340673  [0.0, 0.0, 0.0, 0.0, 0.0, 0.0, 0.0, 0.0, 0.0, ...  \n",
       "340674  [0.0, 0.0, 0.0, 0.0, 0.0, 0.0, 0.0, 0.0, 0.0, ...  \n",
       "\n",
       "[340675 rows x 2 columns]"
      ]
     },
     "execution_count": 3,
     "metadata": {},
     "output_type": "execute_result"
    }
   ],
   "source": [
    "train = dataset['train'].select_columns(['text', 'labels']).to_pandas()\n",
    "test = dataset['test'].select_columns(['text', 'labels']).to_pandas()\n",
    "train"
   ]
  },
  {
   "cell_type": "code",
   "execution_count": 4,
   "id": "978765c4",
   "metadata": {},
   "outputs": [],
   "source": [
    "encoder = SentenceTransformer(\"all-MiniLM-L6-v2\")"
   ]
  },
  {
   "cell_type": "code",
   "execution_count": 5,
   "id": "53579edb",
   "metadata": {},
   "outputs": [
    {
     "data": {
      "application/vnd.jupyter.widget-view+json": {
       "model_id": "f96a96f4e47e482984c71f4cdb0ab5d9",
       "version_major": 2,
       "version_minor": 0
      },
      "text/plain": [
       "Batches:   0%|          | 0/10647 [00:00<?, ?it/s]"
      ]
     },
     "metadata": {},
     "output_type": "display_data"
    }
   ],
   "source": [
    "train_embeddings = encoder.encode(train['text'].tolist(), batch_size=32, show_progress_bar=True)"
   ]
  },
  {
   "cell_type": "code",
   "execution_count": 6,
   "id": "4871d08d",
   "metadata": {},
   "outputs": [],
   "source": [
    "category_embeddings = np.zeros((38, train_embeddings.shape[1]))\n",
    "category_counts = np.zeros(38)"
   ]
  },
  {
   "cell_type": "code",
   "execution_count": 7,
   "id": "27d421d9",
   "metadata": {},
   "outputs": [],
   "source": [
    "for idx, labels in enumerate(train['labels']):\n",
    "    for cat_id, present in enumerate(labels):\n",
    "        if present:\n",
    "            category_embeddings[cat_id] += train_embeddings[idx]\n",
    "            category_counts[cat_id] += 1"
   ]
  },
  {
   "cell_type": "code",
   "execution_count": 8,
   "id": "b8201faa",
   "metadata": {},
   "outputs": [],
   "source": [
    "# Normalize (mean embedding)\n",
    "for i in range(38):\n",
    "    if category_counts[i] > 0:\n",
    "        category_embeddings[i] /= category_counts[i]"
   ]
  },
  {
   "cell_type": "code",
   "execution_count": 9,
   "id": "05d17b43",
   "metadata": {},
   "outputs": [
    {
     "data": {
      "application/vnd.jupyter.widget-view+json": {
       "model_id": "4eab83cc756f40c9a8a68a84bca7d87a",
       "version_major": 2,
       "version_minor": 0
      },
      "text/plain": [
       "Batches:   0%|          | 0/2130 [00:00<?, ?it/s]"
      ]
     },
     "metadata": {},
     "output_type": "display_data"
    }
   ],
   "source": [
    "test_embeddings = encoder.encode(test['text'].tolist(), batch_size=128, show_progress_bar=True)\n",
    "similarities = cosine_similarity(test_embeddings, category_embeddings)  # shape: [num_samples, num_categories]"
   ]
  },
  {
   "cell_type": "code",
   "execution_count": 10,
   "id": "fdeebf90",
   "metadata": {},
   "outputs": [
    {
     "name": "stdout",
     "output_type": "stream",
     "text": [
      "              precision    recall  f1-score   support\n",
      "\n",
      "           0       0.00      0.50      0.00         4\n",
      "           1       0.00      0.71      0.00        34\n",
      "           2       0.01      0.91      0.01       144\n",
      "           3       0.00      1.00      0.00         3\n",
      "           4       0.86      0.90      0.88     35222\n",
      "           5       0.00      0.78      0.00         9\n",
      "           6       0.00      0.50      0.00         2\n",
      "           7       0.02      0.78      0.03       255\n",
      "           8       0.00      0.76      0.00        29\n",
      "           9       0.00      1.00      0.01        87\n",
      "          10       0.00      0.86      0.00        21\n",
      "          11       0.77      0.74      0.76     35981\n",
      "          12       0.80      0.87      0.83     62467\n",
      "          13       0.00      0.93      0.01        67\n",
      "          14       0.06      0.97      0.11       904\n",
      "          15       0.10      0.90      0.18      6052\n",
      "          16       0.00      0.64      0.00        45\n",
      "          17       0.34      0.90      0.49      9293\n",
      "          18       0.17      0.91      0.28      4673\n",
      "          19       0.17      0.88      0.29      2665\n",
      "          20       0.51      0.79      0.62     16944\n",
      "          21       0.52      0.80      0.63     14595\n",
      "          22       0.83      0.60      0.70     58420\n",
      "          23       0.11      0.65      0.19      4871\n",
      "          24       0.00      0.96      0.00        23\n",
      "          25       0.12      0.64      0.20      2508\n",
      "          26       0.07      0.89      0.13      2282\n",
      "          27       0.25      0.85      0.39      5357\n",
      "          28       0.00      0.91      0.01        46\n",
      "          29       0.34      0.46      0.39     20721\n",
      "          30       0.00      1.00      0.00         1\n",
      "          31       0.01      0.90      0.01       122\n",
      "          32       0.20      0.86      0.32      3135\n",
      "          33       0.12      0.97      0.21      1247\n",
      "          34       0.51      0.84      0.63     12239\n",
      "          35       0.01      0.84      0.02        88\n",
      "          36       0.09      0.96      0.17      5368\n",
      "          37       0.00      0.94      0.00        16\n",
      "\n",
      "   micro avg       0.29      0.77      0.42    305940\n",
      "   macro avg       0.18      0.82      0.22    305940\n",
      "weighted avg       0.64      0.77      0.66    305940\n",
      " samples avg       0.29      0.78      0.41    305940\n",
      "\n"
     ]
    }
   ],
   "source": [
    "top_k = 3  # top sim categories\n",
    "\n",
    "preds = np.zeros_like(similarities)\n",
    "for i in range(similarities.shape[0]):\n",
    "    topk_indices = np.argsort(similarities[i])[::-1][:top_k]\n",
    "    preds[i, topk_indices] = 1  \n",
    "    \n",
    "print(classification_report(test['labels'].tolist(), preds))"
   ]
  }
 ],
 "metadata": {
  "kernelspec": {
   "display_name": "main",
   "language": "python",
   "name": "python3"
  },
  "language_info": {
   "codemirror_mode": {
    "name": "ipython",
    "version": 3
   },
   "file_extension": ".py",
   "mimetype": "text/x-python",
   "name": "python",
   "nbconvert_exporter": "python",
   "pygments_lexer": "ipython3",
   "version": "3.13.2"
  }
 },
 "nbformat": 4,
 "nbformat_minor": 5
}
